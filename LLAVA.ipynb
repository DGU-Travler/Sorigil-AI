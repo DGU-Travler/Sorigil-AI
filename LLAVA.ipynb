{
 "cells": [
  {
   "cell_type": "markdown",
   "source": [
    "영문 원본 LLAVA - 허깅페이스에서 가져와서 pip 받을게 거의 없음"
   ],
   "metadata": {
    "collapsed": false
   },
   "id": "e8afe51053557ac0"
  },
  {
   "cell_type": "code",
   "execution_count": 7,
   "id": "initial_id",
   "metadata": {
    "collapsed": true,
    "ExecuteTime": {
     "end_time": "2024-09-28T02:39:29.325251Z",
     "start_time": "2024-09-28T02:39:25.258253Z"
    }
   },
   "outputs": [
    {
     "name": "stdout",
     "output_type": "stream",
     "text": [
      "Generated caption: araffe cat with a piece of bread on its head\n"
     ]
    }
   ],
   "source": [
    "from transformers import BlipProcessor, BlipForConditionalGeneration\n",
    "from PIL import Image\n",
    "\n",
    "# 모델과 프로세서 로드\n",
    "processor = BlipProcessor.from_pretrained(\"Salesforce/blip-image-captioning-large\")\n",
    "model = BlipForConditionalGeneration.from_pretrained(\"Salesforce/blip-image-captioning-large\")\n",
    "\n",
    "# 이미지 불러오기\n",
    "image = Image.open('test.png')\n",
    "\n",
    "# 텍스트 생성\n",
    "inputs = processor(image, return_tensors=\"pt\")\n",
    "outputs = model.generate(**inputs)\n",
    "\n",
    "print(\"Generated caption:\", processor.decode(outputs[0], skip_special_tokens=True))\n"
   ]
  },
  {
   "cell_type": "markdown",
   "source": [
    "허깅페이스 api 호출"
   ],
   "metadata": {
    "collapsed": false
   },
   "id": "fa58ece3d4c092ad"
  },
  {
   "cell_type": "code",
   "outputs": [],
   "source": [
    "from dotenv import load_dotenv\n",
    "import os\n",
    "\n",
    "# .env 파일 로드\n",
    "load_dotenv()\n",
    "\n",
    "# 환경 변수에서 Hugging Face API 토큰 가져오기\n",
    "api_token = os.getenv('HUGGING_FACE_API')"
   ],
   "metadata": {
    "collapsed": false,
    "ExecuteTime": {
     "end_time": "2024-09-28T03:14:14.424619Z",
     "start_time": "2024-09-28T03:14:14.421636Z"
    }
   },
   "id": "97802fa26947d5db",
   "execution_count": 7
  },
  {
   "cell_type": "code",
   "outputs": [
    {
     "name": "stdout",
     "output_type": "stream",
     "text": [
      "Generated caption: [{'generated_text': 'araffe cat with a piece of bread on its head'}]\n"
     ]
    }
   ],
   "source": [
    "import requests\n",
    "from PIL import Image\n",
    "import base64\n",
    "\n",
    "# 이미지 파일을 읽어서 base64로 변환\n",
    "def encode_image(image_path):\n",
    "    with open(image_path, \"rb\") as image_file:\n",
    "        return base64.b64encode(image_file.read()).decode(\"utf-8\")\n",
    "\n",
    "# Hugging Face API 호출 함수\n",
    "def query(image_path):\n",
    "    API_URL = \"https://api-inference.huggingface.co/models/Salesforce/blip-image-captioning-large\"\n",
    "    headers = {\"Authorization\": f\"Bearer {api_token}\"}  # Hugging Face API 토큰\n",
    "    image_data = encode_image(image_path)\n",
    "\n",
    "    # API 요청 데이터 (이미지를 base64로 변환 후 전송)\n",
    "    payload = {\n",
    "        \"inputs\": {\n",
    "            \"image\": image_data\n",
    "        }\n",
    "    }\n",
    "\n",
    "    # API 호출\n",
    "    response = requests.post(API_URL, headers=headers, json=payload)\n",
    "    return response.json()\n",
    "\n",
    "# 이미지 파일 경로\n",
    "image_path = 'test.png'\n",
    "\n",
    "# 결과 출력\n",
    "result = query(image_path)\n",
    "print(\"Generated caption:\", result)\n"
   ],
   "metadata": {
    "collapsed": false,
    "ExecuteTime": {
     "end_time": "2024-09-28T03:14:18.024423Z",
     "start_time": "2024-09-28T03:14:15.816616Z"
    }
   },
   "id": "fd9e95ac21d06713",
   "execution_count": 8
  }
 ],
 "metadata": {
  "kernelspec": {
   "display_name": "Python 3",
   "language": "python",
   "name": "python3"
  },
  "language_info": {
   "codemirror_mode": {
    "name": "ipython",
    "version": 2
   },
   "file_extension": ".py",
   "mimetype": "text/x-python",
   "name": "python",
   "nbconvert_exporter": "python",
   "pygments_lexer": "ipython2",
   "version": "2.7.6"
  }
 },
 "nbformat": 4,
 "nbformat_minor": 5
}
